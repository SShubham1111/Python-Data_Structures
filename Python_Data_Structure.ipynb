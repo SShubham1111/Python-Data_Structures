{
  "nbformat": 4,
  "nbformat_minor": 0,
  "metadata": {
    "colab": {
      "provenance": []
    },
    "kernelspec": {
      "name": "python3",
      "display_name": "Python 3"
    },
    "language_info": {
      "name": "python"
    }
  },
  "cells": [
    {
      "cell_type": "markdown",
      "source": [
        "# Python Data Structures theoritical questions\n",
        "\n",
        "1.What are data structures, and why are they important\n",
        "-  Data structures are the way of storing the data so as to utilze , access and manipulate data and perform several operations on it . There are various data structure is python such as - list , tuple , set , dictionary and string . These data structures has some pre defined fuctions and utilaization of it and support different operations on data .\n",
        "- These are important because -\n",
        "  - To store data in a way so as to organize and store data efficiently\n",
        "  - Supoorts different data type to operations on it\n",
        "  - Different data structures used for different use cases\n",
        "\n",
        "2.Explain the difference between mutable and immutable data types with examples\n",
        "- Mutable data types : These are the data types which can be accesed and manipulated easily with the help of severatl pre defined fuctions and methods . These mutable data structures are - list , sets , dictionary(but the keys are immutable)\n",
        "- example :\n",
        "            - list[1,2,3,4]\n",
        "              list[0] = 10\n",
        "              print(list)\n",
        "              output = [10,2,3,4]\n",
        "- Immutable data types : These are the data types which has unchangable values i.e, the values or or element ot the data cannot be manipulated . the data types are - string , tuple and dictionary(but the values are mutable)\n",
        "- example :  \n",
        "            - string = \"abcde\"\n",
        "              string[0] = \"q\"\n",
        "              output - Error\n",
        "\n",
        "3.What are the main differences between lists and tuples in Python\n",
        "- lists are mutable and tupes are immutable\n",
        "- lists are declared as list = [] , and tuple is declared as tuple = ()\n",
        "- new elements can be added or removed in the lists but not in tuple\n",
        "\n",
        "4.Describe how dictionaries store data\n",
        "- dictionary stores heterogeneous data in key and value pair , where keys are unique and immutable and its corresponding values are mutable . Each key has its own value and value can be acceseed with the help of keys but not vice versa\n",
        "- syntax :     \n",
        "          -  dict1 = {}\n",
        "             dict1 = {'key1' : 'value1' , 'key2' : 'value2'}\n",
        "\n",
        "\n",
        "5.Why might you use a set instead of a list in Python\n",
        "- as the sets allow the user to store the data which are specificallly uniqe and its nature is to store in an unorderly form i.e, the sets doesnt use indexing . Consider a scenario where the menu card is prepared for a restaurent and the dishes cannot be same , it has to be unique in the menu card , in this scenario the sets can be used as lists allow similar values\n",
        "\n",
        "6.What is a string in Python, and how is it different from a list\n",
        "string is a data structure in python used to store elements like words or sentences , the string is immutable i.e, the sting values can be changed as a whole but not the letters individually . It is stored in a sequencial manner in memory . lists are diferent from string as The list has multiple values of different data types and can be accesed and manipulated easily unlike string . the strings iterates over characters and the lists iterate over elements .\n",
        "string is declared as string = \"abc\" , and lists are declared as list = []\n",
        "\n",
        "7.How do tuples ensure data integrity in Python\n",
        "- tuples are immutable and cannot be manipulated\n",
        "- Well maintained code and seems structured\n",
        "- Tuples are as safe as dictionary keys\n",
        "\n",
        "8.What is a hash table, and how does it relate to dictionaries in Python\n",
        "- Hash table is a data structure that used a hask key for every element or value and these hash values are used to refer to the values . These hash tables are used to drive manipulation of data such as insertion , deletion and searching in python in O(1) time complexity . The dictionary make use of the hash table as the keys are immutable and used to refer to the values as whn dictionary is created the hash value is internally created\n",
        "\n",
        "9.Can lists contain different data types in Python\n",
        "- Yes list can contain different data type in python such as - stings , integer , float and boolean values in it . and various operations can be performed using functions like - append() , clear() etc  \n",
        "\n",
        "10.Explain why strings are immutable in Python\n",
        "- Strings are immutable in python because the data is a sequence of characters and these are immutable to maintain the integrity of the string .\n",
        "\n",
        "11.What advantages do dictionaries offer over lists for certain tasks\n",
        "- dictionary help to fetch the data in O(1) time\n",
        "- dictionary has unique and immutable key to every value to manipulate data\n",
        "- For indexing lists uses integer values satrting from 0 , where as the dictionary uses keys\n",
        "\n",
        "12.How do sets handle duplicate values in Python\n",
        "- The duplicate values created in sets are handled as the list consider these values to be same and then remove its copies from the original set stored in the memory and as the data originally has only unique values are are unodered , which eventually helps to maintain the originality and integrity of the data\n",
        "\n",
        "13.Describe a scenario where using a tuple would be preferable over a list\n",
        "- A scenario where the indiviual id's are given to special army forces of a nation and that id cannot be manipulated, can use tuple as it should be unchangable\n",
        "- vehicle number cannot be manipulated on the government records for suspecting crimainal activities and helps to protect citizens of the country\n",
        "\n",
        "14.How does the “in” keyword work differently for lists and dictionaries\n",
        "- The in keyword is used to check the values in the lists , as it is a membership operator\n",
        "- example :\n",
        "            - lists = [100, 'value' , 90.99]\n",
        "              if 'value' in lists :     \n",
        "                  print('Yes')\n",
        "- The in keyword is used to check the keys in the dictionaries being a membership operator but not the values\n",
        "- example :       \n",
        "            - Dict1 = {key1 : 'value1' , key2 : 'value2'}\n",
        "              if 'value1'  in Dict1 :       \n",
        "                  print('yes')\n",
        "              else :              \n",
        "                  print('no')\n",
        "              output - mo\n",
        "\n",
        "15.Can you modify the elements of a tuple?Explain why or why not\n",
        "- No , we cannot modify the values of the tuple until and unless we create a new tuple and copy the values to it with additional modifications\n",
        "\n",
        "16.What is a nested dictionary, and give an example of its use case\n",
        "- Nested dictionary is the dictionary cantaining values as dictionary . As the key remains unique and immutable but the values becomes a dictionary .\n",
        "- example :                 \n",
        "              - students {\n",
        "                    'ram' : {\n",
        "                          'sir_name' : 'bhagat'\n",
        "                          'rool_no' : 30\n",
        "                    }\n",
        "                    'shyam' : {\n",
        "                          'sir_name' : 'satya'\n",
        "                          'rool_no' : 40\n",
        "                    }\n",
        "              }\n",
        "              print(students[ram][rool_no])\n",
        "\n",
        "17.Describe the time complexity of accessing elements in a dictionary\n",
        "- the time complexity of accessing the ements is O(1) as the elments are accesed directly with the help of keys . so we dont have to trace all the elements to access the specific element\n",
        "\n",
        "18.In what situations are lists preferred over dictionaries\n",
        "- When order of insertion matters\n",
        "- when the data considered is small\n",
        "- When the space is considered over that range of data\n",
        "- alllow duplicate values\n",
        "- dont need key value pairs\n",
        "\n",
        "19.Why are dictionaries considered unordered, and how does that affect data retrieval\n",
        "- The dictionaries are considered as unordered as dictionary when retrieved as a whole its not necesary to come in the order of insertion but in newer versions of the python 3.5 and above , the order remains the same as insertion during the retrival .\n",
        "- The data or values remains the same as the keys refered to them doesnt change but the order in which they are retrieved as indexing is done tohrough keys\n",
        "\n",
        "20.Explain the difference between a list and a dictionary in terms of data retrieval\n",
        "- for data retrieval in lists the indexing is used and it starts from 0 . The data has no key but the indexes . data can be retrieved from negative indexing that starts from last . consumes O(n) time for it\n",
        "- For data retrieval in dictionaries , keys are utilised which are unique for each value . Has no order so negative indexing doesnt work . consumes O(1) time for it"
      ],
      "metadata": {
        "id": "70w6vsxbp6AK"
      }
    },
    {
      "cell_type": "markdown",
      "source": [
        "# Python Data Structures practical question\n"
      ],
      "metadata": {
        "id": "uwgxDoSXp35h"
      }
    },
    {
      "cell_type": "code",
      "source": [
        "# 1. Write a code to create a string with your name and print it\n",
        "name = \"S SHUBHAM\"\n",
        "print(name)"
      ],
      "metadata": {
        "colab": {
          "base_uri": "https://localhost:8080/"
        },
        "id": "IssQtszN09HR",
        "outputId": "b55c60ba-5bad-4b18-a4fe-04e1afa26494"
      },
      "execution_count": null,
      "outputs": [
        {
          "output_type": "stream",
          "name": "stdout",
          "text": [
            "S SHUBHAM\n"
          ]
        }
      ]
    },
    {
      "cell_type": "code",
      "source": [
        "# 2. Write a code to find the length of the string \"Hello World\"\n",
        "stringg = \"Hello World\"\n",
        "print(len(stringg))"
      ],
      "metadata": {
        "colab": {
          "base_uri": "https://localhost:8080/"
        },
        "id": "vzPX6II81V0G",
        "outputId": "da13e939-bdd4-4c96-ce64-e72b6edacc52"
      },
      "execution_count": null,
      "outputs": [
        {
          "output_type": "stream",
          "name": "stdout",
          "text": [
            "11\n"
          ]
        }
      ]
    },
    {
      "cell_type": "code",
      "source": [
        "# 3. Write a code to slice the first 3 characters from the string \"Python Programming\"\n",
        "stringg = \"Python Programming\"\n",
        "print(stringg[0:3])"
      ],
      "metadata": {
        "colab": {
          "base_uri": "https://localhost:8080/"
        },
        "id": "xj7Yq5Wx14QO",
        "outputId": "2b3ea485-5aaf-46fc-8db1-a83d19f993c5"
      },
      "execution_count": null,
      "outputs": [
        {
          "output_type": "stream",
          "name": "stdout",
          "text": [
            "Pyt\n"
          ]
        }
      ]
    },
    {
      "cell_type": "code",
      "source": [
        "# 4. Write a code to convert the string \"hello\" to uppercase\n",
        "stringg = \"hello\"\n",
        "print(stringg.upper())"
      ],
      "metadata": {
        "colab": {
          "base_uri": "https://localhost:8080/"
        },
        "id": "VoxZo6wUJxrQ",
        "outputId": "164037ec-40c9-4958-c3eb-621f0271f41c"
      },
      "execution_count": null,
      "outputs": [
        {
          "output_type": "stream",
          "name": "stdout",
          "text": [
            "HELLO\n"
          ]
        }
      ]
    },
    {
      "cell_type": "code",
      "source": [
        "# 5. Write a code to replace the word \"apple\" with \"orange\" in the string \"I like apple\n",
        "stringg = \"I like apple\"\n",
        "\n",
        "print(stringg.replace( \"apple\" , \"orange\" ))"
      ],
      "metadata": {
        "colab": {
          "base_uri": "https://localhost:8080/"
        },
        "id": "lkgyi0DKK-Om",
        "outputId": "5d0a2695-ee35-489f-d04e-67fa111a87cc"
      },
      "execution_count": null,
      "outputs": [
        {
          "output_type": "stream",
          "name": "stdout",
          "text": [
            "I like orange\n"
          ]
        }
      ]
    },
    {
      "cell_type": "code",
      "source": [
        "# 6. Write a code to create a list with numbers 1 to 5 and print it\n",
        "listt = list(range(1,6))\n",
        "listt"
      ],
      "metadata": {
        "colab": {
          "base_uri": "https://localhost:8080/"
        },
        "id": "1QuP9tOWL0JO",
        "outputId": "4802ab82-4540-4f21-a031-a4db97fb22d3"
      },
      "execution_count": null,
      "outputs": [
        {
          "output_type": "execute_result",
          "data": {
            "text/plain": [
              "[1, 2, 3, 4, 5]"
            ]
          },
          "metadata": {},
          "execution_count": 9
        }
      ]
    },
    {
      "cell_type": "code",
      "source": [
        "# 7. Write a code to append the number 10 to the list [1, 2, 3, 4]\n",
        "listt = list(range(1,5))\n",
        "print(listt)\n",
        "listt.append(10)\n",
        "print(listt)"
      ],
      "metadata": {
        "colab": {
          "base_uri": "https://localhost:8080/"
        },
        "id": "nuTWY4FAL6X4",
        "outputId": "9261eea3-2e0f-45db-c866-a6efdb8946c0"
      },
      "execution_count": null,
      "outputs": [
        {
          "output_type": "stream",
          "name": "stdout",
          "text": [
            "[1, 2, 3, 4]\n",
            "[1, 2, 3, 4, 10]\n"
          ]
        }
      ]
    },
    {
      "cell_type": "code",
      "source": [
        "# 8. Write a code to remove the number 3 from the list [1, 2, 3, 4, 5]\n",
        "listt = list(range(1,6))\n",
        "print(listt)\n",
        "listt.remove(3)\n",
        "print(listt)"
      ],
      "metadata": {
        "colab": {
          "base_uri": "https://localhost:8080/"
        },
        "id": "UyvgISUaL6Ui",
        "outputId": "01ad9c6d-35f2-4a8a-9be0-923996dbbc32"
      },
      "execution_count": null,
      "outputs": [
        {
          "output_type": "stream",
          "name": "stdout",
          "text": [
            "[1, 2, 3, 4, 5]\n",
            "[1, 2, 4, 5]\n"
          ]
        }
      ]
    },
    {
      "cell_type": "code",
      "source": [
        "# 9. Write a code to access the second element in the list ['a', 'b', 'c', 'd']\n",
        "listt = ['a' , 'b', 'c', 'd']\n",
        "listt[1]"
      ],
      "metadata": {
        "colab": {
          "base_uri": "https://localhost:8080/",
          "height": 36
        },
        "id": "p9EOUE7dL6Ss",
        "outputId": "7872f302-0b39-4ecf-bb45-fe963675d88b"
      },
      "execution_count": null,
      "outputs": [
        {
          "output_type": "execute_result",
          "data": {
            "text/plain": [
              "'b'"
            ],
            "application/vnd.google.colaboratory.intrinsic+json": {
              "type": "string"
            }
          },
          "metadata": {},
          "execution_count": 13
        }
      ]
    },
    {
      "cell_type": "code",
      "source": [
        "# 10. Write a code to reverse the list [10, 20, 30, 40, 50].\n",
        "listt = [10, 20, 30, 40, 50]\n",
        "listt.reverse()\n",
        "print(listt)"
      ],
      "metadata": {
        "colab": {
          "base_uri": "https://localhost:8080/"
        },
        "id": "qhCd5rg0L6QY",
        "outputId": "8e6be485-e85a-4295-ff44-d9eef146a3ab"
      },
      "execution_count": null,
      "outputs": [
        {
          "output_type": "stream",
          "name": "stdout",
          "text": [
            "[50, 40, 30, 20, 10]\n"
          ]
        }
      ]
    },
    {
      "cell_type": "code",
      "source": [
        "# 11. Write a code to create a tuple with the elements 100, 200, 300 and print it\n",
        "tup = (100 , 200 , 300)\n",
        "print(type(tup))\n",
        "print(tup)"
      ],
      "metadata": {
        "colab": {
          "base_uri": "https://localhost:8080/"
        },
        "id": "f2cmYMGDL6ON",
        "outputId": "549c039b-2347-4384-b084-eebd8849c6ae"
      },
      "execution_count": null,
      "outputs": [
        {
          "output_type": "stream",
          "name": "stdout",
          "text": [
            "<class 'tuple'>\n",
            "(100, 200, 300)\n"
          ]
        }
      ]
    },
    {
      "cell_type": "code",
      "source": [
        "# 12. Write a code to access the second-to-last element of the tuple ('red', 'green', 'blue', 'yellow')\n",
        "tup = ('red', 'green', 'blue', 'yellow')\n",
        "print(tup[1:])"
      ],
      "metadata": {
        "colab": {
          "base_uri": "https://localhost:8080/"
        },
        "id": "JBwfOuAmL6MO",
        "outputId": "6f307572-8db3-403b-8772-f5d7c5845c89"
      },
      "execution_count": null,
      "outputs": [
        {
          "output_type": "stream",
          "name": "stdout",
          "text": [
            "('green', 'blue', 'yellow')\n"
          ]
        }
      ]
    },
    {
      "cell_type": "code",
      "source": [
        "# 13. Write a code to find the minimum number in the tuple (10, 20, 5, 15).\n",
        "tup = (10, 20, 5, 15)\n",
        "print(min(tup))"
      ],
      "metadata": {
        "colab": {
          "base_uri": "https://localhost:8080/"
        },
        "id": "xYNKfyEwL6KY",
        "outputId": "1fc3cd17-adf7-4f7c-d2c2-8f89ba0f910a"
      },
      "execution_count": null,
      "outputs": [
        {
          "output_type": "stream",
          "name": "stdout",
          "text": [
            "5\n"
          ]
        }
      ]
    },
    {
      "cell_type": "code",
      "source": [
        "# 14. Write a code to find the index of the element \"cat\" in the tuple ('dog', 'cat', 'rabbit')\n",
        "tup = ('dog', 'cat', 'rabbit')\n",
        "tup.index('cat')"
      ],
      "metadata": {
        "colab": {
          "base_uri": "https://localhost:8080/"
        },
        "id": "OWO8ZX7CL6IV",
        "outputId": "a9ee67fe-c94c-4751-83f4-67451bfff049"
      },
      "execution_count": null,
      "outputs": [
        {
          "output_type": "execute_result",
          "data": {
            "text/plain": [
              "1"
            ]
          },
          "metadata": {},
          "execution_count": 23
        }
      ]
    },
    {
      "cell_type": "code",
      "source": [
        "# 15.  Write a code to create a tuple containing three different fruits and check if \"kiwi\" is in i\n",
        "tup = ('kiwi' , 'mango' , 'grapes')\n",
        "for i in range(0,len(tup)) :\n",
        "  if 'kiwi' in tup[i].lower() :\n",
        "    a = 'yes'\n",
        "    break\n",
        "  else :\n",
        "    a = 'no'\n",
        "print(a)"
      ],
      "metadata": {
        "colab": {
          "base_uri": "https://localhost:8080/"
        },
        "id": "4jjV-0wVL6GN",
        "outputId": "8ca85753-9aff-49f9-faa9-ea01ef5e5145"
      },
      "execution_count": null,
      "outputs": [
        {
          "output_type": "stream",
          "name": "stdout",
          "text": [
            "yes\n"
          ]
        }
      ]
    },
    {
      "cell_type": "code",
      "source": [
        "# 16. Write a code to create a set with the elements 'a', 'b', 'c' and print it.\n",
        "sett = {'a', 'b', 'c'}\n",
        "print(sett)"
      ],
      "metadata": {
        "colab": {
          "base_uri": "https://localhost:8080/"
        },
        "id": "fnXH_BONL6ET",
        "outputId": "33edf757-c32a-41ad-c064-1b6f78000dbf"
      },
      "execution_count": null,
      "outputs": [
        {
          "output_type": "stream",
          "name": "stdout",
          "text": [
            "{'a', 'c', 'b'}\n"
          ]
        }
      ]
    },
    {
      "cell_type": "code",
      "source": [
        "# 17. Write a code to clear all elements from the set {1, 2, 3, 4, 5}.\n",
        "sett = {1, 2, 3, 4, 5}\n",
        "sett.clear()\n",
        "print(sett)"
      ],
      "metadata": {
        "colab": {
          "base_uri": "https://localhost:8080/"
        },
        "id": "3Bs18P3rL6B8",
        "outputId": "602f33c5-2437-47bc-e3f3-8ea4313d1e96"
      },
      "execution_count": null,
      "outputs": [
        {
          "output_type": "stream",
          "name": "stdout",
          "text": [
            "set()\n"
          ]
        }
      ]
    },
    {
      "cell_type": "code",
      "source": [
        "# 18. Write a code to remove the element 4 from the set {1, 2, 3, 4}\n",
        "sett = {1, 2, 3, 4}\n",
        "sett.remove(4)\n",
        "print(sett)"
      ],
      "metadata": {
        "colab": {
          "base_uri": "https://localhost:8080/"
        },
        "id": "MWJlr-cgL5_o",
        "outputId": "93dea658-f827-431b-98e1-ecb6f53c1cbb"
      },
      "execution_count": null,
      "outputs": [
        {
          "output_type": "stream",
          "name": "stdout",
          "text": [
            "{1, 2, 3}\n"
          ]
        }
      ]
    },
    {
      "cell_type": "code",
      "source": [
        "# 19.  Write a code to find the union of two sets {1, 2, 3} and {3, 4, 5}.\n",
        "set1 = {1, 2, 3}\n",
        "set2 = {3, 4, 5}\n",
        "set1 | set2"
      ],
      "metadata": {
        "colab": {
          "base_uri": "https://localhost:8080/"
        },
        "id": "C5exp1zML59C",
        "outputId": "e58fa76e-90a5-455a-8620-9eb0c6e36425"
      },
      "execution_count": null,
      "outputs": [
        {
          "output_type": "execute_result",
          "data": {
            "text/plain": [
              "{1, 2, 3, 4, 5}"
            ]
          },
          "metadata": {},
          "execution_count": 38
        }
      ]
    },
    {
      "cell_type": "code",
      "source": [
        "# 20. Write a code to find the intersection of two sets {1, 2, 3} and {2, 3, 4}.\n",
        "set1 = {1, 2, 3}\n",
        "set2 = {2 , 3 , 4}\n",
        "set1 & set2"
      ],
      "metadata": {
        "colab": {
          "base_uri": "https://localhost:8080/"
        },
        "id": "XNIRdcMgL56g",
        "outputId": "3b1ab1e7-a92e-4b6d-cbd9-1c52a933c232"
      },
      "execution_count": null,
      "outputs": [
        {
          "output_type": "execute_result",
          "data": {
            "text/plain": [
              "{2, 3}"
            ]
          },
          "metadata": {},
          "execution_count": 39
        }
      ]
    },
    {
      "cell_type": "code",
      "source": [
        "# 21. Write a code to create a dictionary with the keys \"name\", \"age\", and \"city\", and print it.\n",
        "dict1 = {\"name\" : \"Shrey\" , \"age\" : 90 , \"city\" : \"new york\"}\n",
        "print(dict1)"
      ],
      "metadata": {
        "colab": {
          "base_uri": "https://localhost:8080/"
        },
        "id": "rLg9LdUSWt0o",
        "outputId": "59a77e41-a6df-4f4b-f5b7-c0dd85979922"
      },
      "execution_count": null,
      "outputs": [
        {
          "output_type": "stream",
          "name": "stdout",
          "text": [
            "{'name': 'Shrey', 'age': 90, 'city': 'new york'}\n"
          ]
        }
      ]
    },
    {
      "cell_type": "code",
      "source": [
        "# 22. Write a code to add a new key-value pair \"country\": \"USA\" to the dictionary {'name': 'John', 'age': 25}\n",
        "dict1 = {'name': 'John', 'age': 25}\n",
        "dict1.update({\"country\" : \"USA\"})\n",
        "dict1"
      ],
      "metadata": {
        "colab": {
          "base_uri": "https://localhost:8080/"
        },
        "id": "0w4EpLquWtuh",
        "outputId": "88915539-43e6-4d36-a715-701a21b41166"
      },
      "execution_count": null,
      "outputs": [
        {
          "output_type": "execute_result",
          "data": {
            "text/plain": [
              "{'name': 'John', 'age': 25, 'country': 'USA'}"
            ]
          },
          "metadata": {},
          "execution_count": 45
        }
      ]
    },
    {
      "cell_type": "code",
      "source": [
        "# 23.  Write a code to access the value associated with the key \"name\" in the dictionary {'name': 'Alice', 'age': 30}\n",
        "dict1 = {'name': 'Alice', 'age': 30}\n",
        "print(dict1['name'])"
      ],
      "metadata": {
        "colab": {
          "base_uri": "https://localhost:8080/"
        },
        "id": "kZ5kSqLlWtoV",
        "outputId": "65cb87de-b3c1-42f6-e7b7-3f2d69857f30"
      },
      "execution_count": null,
      "outputs": [
        {
          "output_type": "stream",
          "name": "stdout",
          "text": [
            "Alice\n"
          ]
        }
      ]
    },
    {
      "cell_type": "code",
      "source": [
        "# 24. Write a code to remove the key \"age\" from the dictionary {'name': 'Bob', 'age': 22, 'city': 'New York'}\n",
        "dict1 = {'name': 'Bob', 'age': 22, 'city': 'New York'}\n",
        "dict1.pop('age')\n",
        "dict1"
      ],
      "metadata": {
        "colab": {
          "base_uri": "https://localhost:8080/"
        },
        "id": "AOxfWqdzWtij",
        "outputId": "283e39fe-9dbb-4de5-d6fc-2f659a7d8d56"
      },
      "execution_count": null,
      "outputs": [
        {
          "output_type": "execute_result",
          "data": {
            "text/plain": [
              "{'name': 'Bob', 'city': 'New York'}"
            ]
          },
          "metadata": {},
          "execution_count": 52
        }
      ]
    },
    {
      "cell_type": "code",
      "source": [
        "# 25. Write a code to check if the key \"city\" exists in the dictionary {'name': 'Alice', 'city': 'Paris'}\n",
        "dict1 =  {'name': 'Alice', 'city': 'Paris'}\n",
        "for i in dict1.keys():\n",
        "  if 'city' == i :\n",
        "    a= 'yes'\n",
        "    break\n",
        "  else :\n",
        "    a = 'no'\n",
        "print(a)"
      ],
      "metadata": {
        "colab": {
          "base_uri": "https://localhost:8080/"
        },
        "id": "uj0oNVYbWtcD",
        "outputId": "1fb3ce1c-bc85-4cce-e9ab-839116bbc918"
      },
      "execution_count": null,
      "outputs": [
        {
          "output_type": "stream",
          "name": "stdout",
          "text": [
            "yes\n"
          ]
        }
      ]
    },
    {
      "cell_type": "code",
      "source": [
        "# 26. Write a code to create a list, a tuple, and a dictionary, and print them all\n",
        "lsitt = [10 , 'shyy' , 0.90 , True , 10+20j]\n",
        "tuplee = (10 , 'shyy' , 0.90 , True , 10+20j)\n",
        "dictt = {1:10 ,2:20}\n",
        "print(lsitt)\n",
        "print(tuplee)\n",
        "print(dictt)"
      ],
      "metadata": {
        "colab": {
          "base_uri": "https://localhost:8080/"
        },
        "id": "7HzCmGAkWtVo",
        "outputId": "43d6fdab-0597-45dc-c445-aab0b08336ff"
      },
      "execution_count": null,
      "outputs": [
        {
          "output_type": "stream",
          "name": "stdout",
          "text": [
            "[10, 'shyy', 0.9, True, (10+20j)]\n",
            "(10, 'shyy', 0.9, True, (10+20j))\n",
            "{1: 10, 2: 20}\n"
          ]
        }
      ]
    },
    {
      "cell_type": "code",
      "source": [
        "import random\n",
        "# 27. Write a code to create a list of 5 random numbers between 1 and 100, sort it in ascending order, and print the result.(replaced)\n",
        "listt = [random.randint(1,100) for i in range(5)]\n",
        "print(listt)\n",
        "sorted(listt)"
      ],
      "metadata": {
        "colab": {
          "base_uri": "https://localhost:8080/"
        },
        "id": "I1DbU50sWtP3",
        "outputId": "6574323b-8866-4fc7-d869-d3ec70eb2f03"
      },
      "execution_count": null,
      "outputs": [
        {
          "output_type": "stream",
          "name": "stdout",
          "text": [
            "[81, 83, 78, 2, 9]\n"
          ]
        },
        {
          "output_type": "execute_result",
          "data": {
            "text/plain": [
              "[2, 9, 78, 81, 83]"
            ]
          },
          "metadata": {},
          "execution_count": 68
        }
      ]
    },
    {
      "cell_type": "code",
      "source": [
        "# 28. Write a code to create a list with strings and print the element at the third index\n",
        "listt = ['pan' , 'ram' , 'dam' , 'sam']\n",
        "print(listt[2])"
      ],
      "metadata": {
        "colab": {
          "base_uri": "https://localhost:8080/"
        },
        "id": "PYacZRAEWtJC",
        "outputId": "f2903cc2-d6aa-4864-96f2-6758668cea22"
      },
      "execution_count": null,
      "outputs": [
        {
          "output_type": "stream",
          "name": "stdout",
          "text": [
            "dam\n"
          ]
        }
      ]
    },
    {
      "cell_type": "code",
      "source": [
        "# 29. Write a code to combine two dictionaries into one and print the result\n",
        "dict1 = { 1 : 10 , 2 : 20}\n",
        "dict2 = { 3 : 30 , 4 : 40}\n",
        "dict1.update(dict2)\n",
        "dict1"
      ],
      "metadata": {
        "colab": {
          "base_uri": "https://localhost:8080/"
        },
        "id": "5GzUs3pRL5yj",
        "outputId": "5640be59-fe37-4ea2-d4f5-f30d2ca26d84"
      },
      "execution_count": null,
      "outputs": [
        {
          "output_type": "execute_result",
          "data": {
            "text/plain": [
              "{1: 10, 2: 20, 3: 30, 4: 40}"
            ]
          },
          "metadata": {},
          "execution_count": 76
        }
      ]
    },
    {
      "cell_type": "code",
      "source": [
        "# 30. Write a code to convert a list of strings into a set\n",
        "listt = ['abs' , 'hkgd' , 'hgr']\n",
        "set(listt)"
      ],
      "metadata": {
        "colab": {
          "base_uri": "https://localhost:8080/"
        },
        "id": "PlLV0gdjL5op",
        "outputId": "758ef6f0-a223-4de6-f909-04498d5f44da"
      },
      "execution_count": null,
      "outputs": [
        {
          "output_type": "execute_result",
          "data": {
            "text/plain": [
              "{'abs', 'hgr', 'hkgd'}"
            ]
          },
          "metadata": {},
          "execution_count": 77
        }
      ]
    },
    {
      "cell_type": "code",
      "source": [],
      "metadata": {
        "id": "V6o9F0r0gi9_"
      },
      "execution_count": null,
      "outputs": []
    }
  ]
}